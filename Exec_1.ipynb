{
  "nbformat": 4,
  "nbformat_minor": 0,
  "metadata": {
    "colab": {
      "provenance": [],
      "authorship_tag": "ABX9TyMOy+R+5lsKyilvY44p1Nyl",
      "include_colab_link": true
    },
    "kernelspec": {
      "name": "python3",
      "display_name": "Python 3"
    },
    "language_info": {
      "name": "python"
    }
  },
  "cells": [
    {
      "cell_type": "markdown",
      "metadata": {
        "id": "view-in-github",
        "colab_type": "text"
      },
      "source": [
        "<a href=\"https://colab.research.google.com/github/Gustavo-Pinho/p1-predictive/blob/main/Exec_1.ipynb\" target=\"_parent\"><img src=\"https://colab.research.google.com/assets/colab-badge.svg\" alt=\"Open In Colab\"/></a>"
      ]
    },
    {
      "cell_type": "code",
      "source": [
        "pip install ucimlrepo"
      ],
      "metadata": {
        "colab": {
          "base_uri": "https://localhost:8080/"
        },
        "id": "yHwmLiQt-JBf",
        "outputId": "978d0c4f-7524-4a6c-f26c-cbdc0168eb96"
      },
      "execution_count": 51,
      "outputs": [
        {
          "output_type": "stream",
          "name": "stdout",
          "text": [
            "Requirement already satisfied: ucimlrepo in /usr/local/lib/python3.11/dist-packages (0.0.7)\n",
            "Requirement already satisfied: pandas>=1.0.0 in /usr/local/lib/python3.11/dist-packages (from ucimlrepo) (2.2.2)\n",
            "Requirement already satisfied: certifi>=2020.12.5 in /usr/local/lib/python3.11/dist-packages (from ucimlrepo) (2025.1.31)\n",
            "Requirement already satisfied: numpy>=1.23.2 in /usr/local/lib/python3.11/dist-packages (from pandas>=1.0.0->ucimlrepo) (2.0.2)\n",
            "Requirement already satisfied: python-dateutil>=2.8.2 in /usr/local/lib/python3.11/dist-packages (from pandas>=1.0.0->ucimlrepo) (2.8.2)\n",
            "Requirement already satisfied: pytz>=2020.1 in /usr/local/lib/python3.11/dist-packages (from pandas>=1.0.0->ucimlrepo) (2025.2)\n",
            "Requirement already satisfied: tzdata>=2022.7 in /usr/local/lib/python3.11/dist-packages (from pandas>=1.0.0->ucimlrepo) (2025.2)\n",
            "Requirement already satisfied: six>=1.5 in /usr/local/lib/python3.11/dist-packages (from python-dateutil>=2.8.2->pandas>=1.0.0->ucimlrepo) (1.17.0)\n"
          ]
        }
      ]
    },
    {
      "cell_type": "code",
      "source": [
        "from ucimlrepo import fetch_ucirepo\n",
        "from sklearn.model_selection import train_test_split\n",
        "from sklearn.linear_model import LogisticRegression\n",
        "from sklearn.preprocessing import StandardScaler\n",
        "from sklearn.metrics import accuracy_score\n",
        "import pandas as pd\n",
        "import numpy as np\n",
        "\n",
        "# Fetch dataset\n",
        "seoul_bike_sharing_demand = fetch_ucirepo(id=560)\n",
        "\n",
        "# Data (as pandas dataframes)\n",
        "X = seoul_bike_sharing_demand.data.features\n",
        "y = seoul_bike_sharing_demand.data.targets\n",
        "\n",
        "# Metadata\n",
        "print(seoul_bike_sharing_demand.metadata)\n",
        "\n",
        "# Variable information\n",
        "print(seoul_bike_sharing_demand.variables)\n",
        "\n",
        "# Verificando colunas\n",
        "print(\"\\nColunas em X (features):\", X.columns.tolist())\n",
        "print(\"Colunas em y (targets):\", y.columns.tolist())\n",
        "\n",
        "# Ajustando o target 'Rented Bike Count' que está em X\n",
        "target_column = 'Rented Bike Count'\n",
        "y = X[[target_column]]  # Extraindo o target de X\n",
        "X = X.drop(columns=[target_column])  # Removendo o target de X\n",
        "\n",
        "# Transformando o target em binário (alta/baixa demanda com base na mediana)\n",
        "y_median = y[target_column].median()\n",
        "y_binary = (y[target_column] > y_median).astype(int)\n",
        "\n",
        "# Pré-processamento de X\n",
        "X = X.drop(columns=['Date'])  # Removendo a coluna 'Date'\n",
        "# Usando apenas as colunas categóricas presentes em X\n",
        "X = pd.get_dummies(X, columns=['Seasons', 'Holiday'], drop_first=True)\n",
        "X = X.fillna(X.mean())  # Preenchendo valores ausentes com a média\n",
        "\n",
        "# Dividindo os dados em treino (80%) e teste (20%)\n",
        "X_train, X_test, y_train, y_test = train_test_split(X, y_binary, test_size=0.2, random_state=42)\n",
        "\n",
        "# Escalonando os dados\n",
        "scaler = StandardScaler()\n",
        "X_train_scaled = scaler.fit_transform(X_train)\n",
        "X_test_scaled = scaler.transform(X_test)"
      ],
      "metadata": {
        "colab": {
          "base_uri": "https://localhost:8080/"
        },
        "id": "fG6BcsntIqcz",
        "outputId": "ee310477-5329-475c-c82e-c1ba25143fec"
      },
      "execution_count": 112,
      "outputs": [
        {
          "output_type": "stream",
          "name": "stdout",
          "text": [
            "{'uci_id': 560, 'name': 'Seoul Bike Sharing Demand', 'repository_url': 'https://archive.ics.uci.edu/dataset/560/seoul+bike+sharing+demand', 'data_url': 'https://archive.ics.uci.edu/static/public/560/data.csv', 'abstract': 'The dataset contains count of public bicycles rented per hour in the Seoul Bike Sharing System, with corresponding weather data and holiday information', 'area': 'Business', 'tasks': ['Regression'], 'characteristics': ['Multivariate'], 'num_instances': 8760, 'num_features': 13, 'feature_types': ['Integer', 'Real'], 'demographics': [], 'target_col': ['Functioning Day'], 'index_col': None, 'has_missing_values': 'no', 'missing_values_symbol': None, 'year_of_dataset_creation': 2020, 'last_updated': 'Mon Feb 05 2024', 'dataset_doi': '10.24432/C5F62R', 'creators': [], 'intro_paper': None, 'additional_info': {'summary': 'Currently Rental bikes are introduced in many urban cities for the enhancement of mobility comfort. It is important to make the rental bike available and accessible to the public at the right time as it lessens the waiting time. Eventually, providing the city with a stable supply of rental bikes becomes a major concern. The crucial part is the prediction of bike count required at each hour for the stable supply of rental bikes. \\r\\nThe dataset contains weather information (Temperature, Humidity, Windspeed, Visibility, Dewpoint, Solar radiation, Snowfall, Rainfall), the number of bikes rented per hour and date information. ', 'purpose': None, 'funded_by': None, 'instances_represent': None, 'recommended_data_splits': None, 'sensitive_data': None, 'preprocessing_description': None, 'variable_info': 'Date : year-month-day\\r\\nRented Bike count - Count of bikes rented at each hour\\r\\nHour - Hour of he day\\r\\nTemperature-Temperature in Celsius\\r\\nHumidity - %\\r\\nWindspeed - m/s\\r\\nVisibility - 10m\\r\\nDew point temperature - Celsius \\r\\nSolar radiation - MJ/m2\\r\\nRainfall - mm\\r\\nSnowfall - cm\\r\\nSeasons - Winter, Spring, Summer, Autumn\\r\\nHoliday - Holiday/No holiday\\r\\nFunctional Day - NoFunc(Non Functional Hours), Fun(Functional hours)', 'citation': None}}\n",
            "                     name     role         type demographic description  \\\n",
            "0                    Date  Feature         Date        None        None   \n",
            "1       Rented Bike Count  Feature      Integer        None        None   \n",
            "2                    Hour  Feature      Integer        None        None   \n",
            "3             Temperature  Feature   Continuous        None        None   \n",
            "4                Humidity  Feature      Integer        None        None   \n",
            "5              Wind speed  Feature   Continuous        None        None   \n",
            "6              Visibility  Feature      Integer        None        None   \n",
            "7   Dew point temperature  Feature   Continuous        None        None   \n",
            "8         Solar Radiation  Feature   Continuous        None        None   \n",
            "9                Rainfall  Feature      Integer        None        None   \n",
            "10               Snowfall  Feature      Integer        None        None   \n",
            "11                Seasons  Feature  Categorical        None        None   \n",
            "12                Holiday  Feature       Binary        None        None   \n",
            "13        Functioning Day   Target       Binary        None        None   \n",
            "\n",
            "    units missing_values  \n",
            "0    None             no  \n",
            "1    None             no  \n",
            "2    None             no  \n",
            "3       C             no  \n",
            "4       %             no  \n",
            "5     m/s             no  \n",
            "6     10m             no  \n",
            "7       C             no  \n",
            "8   Mj/m2             no  \n",
            "9      mm             no  \n",
            "10     cm             no  \n",
            "11   None             no  \n",
            "12   None             no  \n",
            "13   None             no  \n",
            "\n",
            "Colunas em X (features): ['Date', 'Rented Bike Count', 'Hour', 'Temperature', 'Humidity', 'Wind speed', 'Visibility', 'Dew point temperature', 'Solar Radiation', 'Rainfall', 'Snowfall', 'Seasons', 'Holiday']\n",
            "Colunas em y (targets): ['Functioning Day']\n"
          ]
        }
      ]
    },
    {
      "cell_type": "code",
      "source": [
        "# 1. Matriz de Confusão\n",
        "cm = confusion_matrix(y_test, y_pred)\n",
        "print(\"\\nMatriz de Confusão:\")\n",
        "print(cm)"
      ],
      "metadata": {
        "colab": {
          "base_uri": "https://localhost:8080/"
        },
        "id": "lSYvA3xuJz2n",
        "outputId": "68a281fb-ea4f-40e9-c1c9-ac68bed2f387"
      },
      "execution_count": 107,
      "outputs": [
        {
          "output_type": "stream",
          "name": "stdout",
          "text": [
            "\n",
            "Matriz de Confusão:\n",
            "[[759 126]\n",
            " [141 726]]\n"
          ]
        }
      ]
    },
    {
      "cell_type": "code",
      "source": [
        "# Visualização da Matriz de Confusão\n",
        "plt.figure(figsize=(6,4))\n",
        "sns.heatmap(cm, annot=True, fmt='d', cmap='Blues', cbar=False)\n",
        "plt.title('Matriz de Confusão')\n",
        "plt.ylabel('Verdadeiro')\n",
        "plt.xlabel('Predito')\n",
        "plt.show()"
      ],
      "metadata": {
        "colab": {
          "base_uri": "https://localhost:8080/",
          "height": 410
        },
        "id": "scNqlWz0LKGT",
        "outputId": "cc407497-78e9-4448-e972-83a52f82e24a"
      },
      "execution_count": 108,
      "outputs": [
        {
          "output_type": "display_data",
          "data": {
            "text/plain": [
              "<Figure size 600x400 with 1 Axes>"
            ],
            "image/png": "[encoded data removed]"
          },
          "metadata": {}
        }
      ]
    },
    {
      "cell_type": "code",
      "source": [
        "# 2. Relatório de Classificação\n",
        "print(\"\\nRelatório de Classificação:\")\n",
        "print(classification_report(y_test, y_pred, target_names=['Baixa Demanda', 'Alta Demanda']))"
      ],
      "metadata": {
        "colab": {
          "base_uri": "https://localhost:8080/"
        },
        "id": "ZwZgpTU6LNJJ",
        "outputId": "150ed702-3283-483e-fb62-86d314df85b9"
      },
      "execution_count": 109,
      "outputs": [
        {
          "output_type": "stream",
          "name": "stdout",
          "text": [
            "\n",
            "Relatório de Classificação:\n",
            "               precision    recall  f1-score   support\n",
            "\n",
            "Baixa Demanda       0.84      0.86      0.85       885\n",
            " Alta Demanda       0.85      0.84      0.84       867\n",
            "\n",
            "     accuracy                           0.85      1752\n",
            "    macro avg       0.85      0.85      0.85      1752\n",
            " weighted avg       0.85      0.85      0.85      1752\n",
            "\n"
          ]
        }
      ]
    },
    {
      "cell_type": "code",
      "source": [
        "# 3. Importância das Features (coeficientes)\n",
        "coef_df = pd.DataFrame({\n",
        "    'Feature': X.columns,\n",
        "    'Coefficient': model.coef_[0]\n",
        "}).sort_values(by='Coefficient', key=abs, ascending=False)\n",
        "print(\"\\nImportância das Features (coeficientes da regressão logística):\")\n",
        "print(coef_df)"
      ],
      "metadata": {
        "colab": {
          "base_uri": "https://localhost:8080/"
        },
        "id": "DRZBzdk8LPlG",
        "outputId": "b3b5a4b0-873c-4f96-8eb3-11707f905489"
      },
      "execution_count": 110,
      "outputs": [
        {
          "output_type": "stream",
          "name": "stdout",
          "text": [
            "\n",
            "Importância das Features (coeficientes da regressão logística):\n",
            "                  Feature  Coefficient\n",
            "11         Seasons_Winter    -1.423214\n",
            "7                Rainfall    -1.173491\n",
            "1             Temperature     0.899106\n",
            "0                    Hour     0.832197\n",
            "2                Humidity    -0.603338\n",
            "6         Solar Radiation     0.459784\n",
            "8                Snowfall    -0.317988\n",
            "9          Seasons_Spring    -0.220782\n",
            "12     Holiday_No Holiday     0.217156\n",
            "3              Wind speed    -0.113497\n",
            "4              Visibility    -0.098010\n",
            "5   Dew point temperature    -0.055561\n",
            "10         Seasons_Summer     0.046020\n"
          ]
        }
      ]
    },
    {
      "cell_type": "code",
      "source": [
        "# 4. Curva ROC e AUC\n",
        "y_prob = model.predict_proba(X_test_scaled)[:, 1]  # Probabilidades para a classe positiva\n",
        "fpr, tpr, _ = roc_curve(y_test, y_prob)\n",
        "roc_auc = auc(fpr, tpr)\n",
        "\n",
        "plt.figure(figsize=(6,4))\n",
        "plt.plot(fpr, tpr, color='darkorange', lw=2, label=f'Curva ROC (AUC = {roc_auc:.2f})')\n",
        "plt.plot([0, 1], [0, 1], color='navy', lw=2, linestyle='--')\n",
        "plt.xlim([0.0, 1.0])\n",
        "plt.ylim([0.0, 1.05])\n",
        "plt.xlabel('Taxa de Falsos Positivos')\n",
        "plt.ylabel('Taxa de Verdadeiros Positivos')\n",
        "plt.title('Curva ROC')\n",
        "plt.legend(loc=\"lower right\")\n",
        "plt.show()"
      ],
      "metadata": {
        "colab": {
          "base_uri": "https://localhost:8080/",
          "height": 410
        },
        "id": "0e9ibaAkLTgq",
        "outputId": "735714ac-1bb6-4d71-a98c-cd912c96cfc3"
      },
      "execution_count": 111,
      "outputs": [
        {
          "output_type": "display_data",
          "data": {
            "text/plain": [
              "<Figure size 600x400 with 1 Axes>"
            ],
            "image/png": "[encoded data removed]"
          },
          "metadata": {}
        }
      ]
    },
    {
      "cell_type": "code",
      "source": [
        "# Criando e treinando o modelo de regressão logística\n",
        "model = LogisticRegression(max_iter=1000)\n",
        "model.fit(X_train_scaled, y_train)\n",
        "\n",
        "# Fazendo previsões no conjunto de teste\n",
        "y_pred = model.predict(X_test_scaled)\n",
        "\n",
        "# Calculando a acurácia\n",
        "accuracy = accuracy_score(y_test, y_pred)\n",
        "print(f\"\\nAcurácia do modelo de regressão logística no conjunto de teste: {accuracy:.4f}\")"
      ],
      "metadata": {
        "colab": {
          "base_uri": "https://localhost:8080/"
        },
        "id": "Uq1Ws3JrLiU9",
        "outputId": "a79a60ab-124a-4a34-e0d4-0ea5e02444b4"
      },
      "execution_count": 113,
      "outputs": [
        {
          "output_type": "stream",
          "name": "stdout",
          "text": [
            "\n",
            "Acurácia do modelo de regressão logística no conjunto de teste: 0.8476\n"
          ]
        }
      ]
    },
    {
      "cell_type": "markdown",
      "source": [
        "Análise: O modelo de regressão logística alcançou uma acurácia de 85% e uma AUC de 0.93 ao classificar a demanda de bicicletas em \"Baixa\"  e \"Alta\"  com base na mediana de 'Rented Bike Count'. A AUC de 0.93 reforça a excelente capacidade discriminatória do modelo. As features mais influentes foram fatores climáticos e temporais: Seasons_Winter  e Rainfall  reduzem a demanda, enquanto Temperature  e Hour  a aumentam. Esses resultados sugerem que o modelo captura bem padrões sazonais e meteorológicos, sendo útil para planejamento operacional.\n",
        "\n",
        "O que Poderia Ter Sido Feito para Melhorar os Resultados: Otimizar parâmetros da regressão logística como penalidade C"
      ],
      "metadata": {
        "id": "KaMNd8lALuEK"
      }
    }
  ]
}